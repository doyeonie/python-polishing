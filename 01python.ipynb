{
 "cells": [
  {
   "cell_type": "code",
   "execution_count": 1,
   "id": "705bec6c-40c5-4c64-ab3b-1fd2bdb75a27",
   "metadata": {},
   "outputs": [
    {
     "name": "stdout",
     "output_type": "stream",
     "text": [
      "3.9.13 (main, Aug 25 2022, 23:51:50) [MSC v.1916 64 bit (AMD64)]\n"
     ]
    }
   ],
   "source": [
    "import sys\n",
    "print(sys.version)"
   ]
  },
  {
   "cell_type": "code",
   "execution_count": 2,
   "id": "32b12512-23c8-489a-b2a3-de711f68e005",
   "metadata": {},
   "outputs": [
    {
     "name": "stdout",
     "output_type": "stream",
     "text": [
      " C 드라이브의 볼륨에는 이름이 없습니다.\n",
      " 볼륨 일련 번호: 446B-069B\n",
      "\n",
      " C:\\Users\\HOME 디렉터리\n",
      "\n",
      "2023-01-07  오후 10:02    <DIR>          .\n",
      "2023-01-07  오후 10:02    <DIR>          ..\n",
      "2023-01-07  오후 10:01    <DIR>          .ipynb_checkpoints\n",
      "2023-01-07  오후 10:00    <DIR>          .ipython\n",
      "2023-01-07  오후 09:59    <DIR>          .jupyter\n",
      "2023-01-07  오후 10:02               666 01python.ipynb\n",
      "2022-12-13  오후 03:03    <DIR>          3D Objects\n",
      "2023-01-07  오후 09:30    <DIR>          anaconda3\n",
      "2022-12-13  오후 03:03    <DIR>          Contacts\n",
      "2023-01-05  오후 10:30    <DIR>          Creative Cloud Files\n",
      "2023-01-06  오후 10:32    <DIR>          Desktop\n",
      "2023-01-07  오후 09:30    <DIR>          Documents\n",
      "2023-01-07  오후 09:26    <DIR>          Downloads\n",
      "2023-01-02  오후 09:33    <DIR>          Favorites\n",
      "2022-12-13  오후 03:03    <DIR>          Links\n",
      "2022-12-13  오후 03:03    <DIR>          Music\n",
      "2022-12-13  오후 04:20    <DIR>          OneDrive\n",
      "2022-12-13  오후 03:05    <DIR>          Pictures\n",
      "2022-12-13  오후 03:03    <DIR>          Saved Games\n",
      "2022-12-13  오후 03:05    <DIR>          Searches\n",
      "2023-01-02  오후 07:48    <DIR>          Videos\n",
      "               1개 파일                 666 바이트\n",
      "              20개 디렉터리  51,997,962,240 바이트 남음\n"
     ]
    }
   ],
   "source": [
    "!dir"
   ]
  },
  {
   "cell_type": "code",
   "execution_count": null,
   "id": "25839b5f-d91a-45bc-84bc-72216b48f946",
   "metadata": {},
   "outputs": [],
   "source": []
  }
 ],
 "metadata": {
  "kernelspec": {
   "display_name": "Python 3 (ipykernel)",
   "language": "python",
   "name": "python3"
  },
  "language_info": {
   "codemirror_mode": {
    "name": "ipython",
    "version": 3
   },
   "file_extension": ".py",
   "mimetype": "text/x-python",
   "name": "python",
   "nbconvert_exporter": "python",
   "pygments_lexer": "ipython3",
   "version": "3.9.13"
  }
 },
 "nbformat": 4,
 "nbformat_minor": 5
}
